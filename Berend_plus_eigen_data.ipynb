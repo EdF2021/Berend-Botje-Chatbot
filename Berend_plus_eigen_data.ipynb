{
 "cells": [
  {
   "cell_type": "markdown",
   "id": "63785634",
   "metadata": {},
   "source": [
    "# Berend Botje Skills powered by ChatGPT en eigen data\n",
    "\n",
    "De notebook is geinspireerd op het werk uit de OpenAI Cookbook.\n",
    "\n",
    "De werkwijze is als volgt:\n",
    "- **Setup:** \n",
    "    - Initieren van de variabelen en het laden van de data bestanden\n",
    "- **Bouwen van het fundament:**\n",
    "    - Setup van een vector database die vectoren en data accepteert\n",
    "    - Laden van de dataset, chunken van de data zodat embedding mogelijk is en de data in de vectorendatabase kan worden opgeslagen. \n",
    "- **Op weg naar het product:**\n",
    "    - Toevoegen van een retrieval stap waar gebruikers vragen stellen en we de meest relevante entries teruggeven \n",
    "    - Samenvatten van de zoekresultaten met GPT-3\n",
    "    - Testen van de basis Q&A app in Streamlit\n",
    "- **Bouwen van Berend:**\n",
    "    - Maken van een Assistant class om context te kunnen beheren en we kunnen interacteren met Berend de Bot\n",
    "    - Berend Bot gebruiken om de vragen te beantwoorden door gebruik te maken van de semantische zoek context.\n",
    "    - Testen van de basis BerenBot app in Streamlit\n",
    "    "
   ]
  },
  {
   "cell_type": "code",
   "execution_count": 1,
   "id": "59f08ea7",
   "metadata": {},
   "outputs": [],
   "source": [
    "%load_ext autoreload\n",
    "%autoreload 2"
   ]
  },
  {
   "cell_type": "markdown",
   "id": "13649895",
   "metadata": {},
   "source": [
    "## Setup\n",
    "\n",
    "Setup van de bibliotheken en omgevingsvariabelen\n"
   ]
  },
  {
   "cell_type": "code",
   "execution_count": 2,
   "id": "7590fbfc",
   "metadata": {},
   "outputs": [],
   "source": [
    "import openai\n",
    "import os\n",
    "import requests\n",
    "import numpy as np\n",
    "import pandas as pd\n",
    "from typing import Iterator\n",
    "import tiktoken\n",
    "import textract\n",
    "from numpy import array, average\n",
    "\n",
    "from database import get_redis_connection\n",
    "\n",
    "# Set our default models and chunking size\n",
    "from config import COMPLETIONS_MODEL, EMBEDDINGS_MODEL, CHAT_MODEL, TEXT_EMBEDDING_CHUNK_SIZE, VECTOR_FIELD_NAME\n",
    "\n",
    "# Ignore unclosed SSL socket warnings - optional in case you get these errors\n",
    "import warnings\n",
    "\n",
    "warnings.filterwarnings(action=\"ignore\", message=\"unclosed\", category=ImportWarning)\n",
    "warnings.filterwarnings(\"ignore\", category=DeprecationWarning) "
   ]
  },
  {
   "cell_type": "code",
   "execution_count": 3,
   "id": "760efc1e",
   "metadata": {},
   "outputs": [],
   "source": [
    "pd.set_option('display.max_colwidth', 0)"
   ]
  },
  {
   "cell_type": "code",
   "execution_count": 4,
   "id": "3f90817d",
   "metadata": {},
   "outputs": [
    {
     "data": {
      "text/plain": [
       "['230222 Verslag Stuurgroep Fieldlab TV.pdf',\n",
       " 'Audiobestand.pdf',\n",
       " 'Docentenhandleiding Burgerschap).pdf']"
      ]
     },
     "execution_count": 4,
     "metadata": {},
     "output_type": "execute_result"
    }
   ],
   "source": [
    "data_dir = os.path.join(os.curdir,'data')\n",
    "pdf_files = sorted([x for x in os.listdir(data_dir) if 'DS_Store' not in x])\n",
    "pdf_files"
   ]
  },
  {
   "cell_type": "markdown",
   "id": "5dc4018c",
   "metadata": {},
   "source": [
    "## Het bouwen van het fundament"
   ]
  },
  {
   "cell_type": "markdown",
   "id": "632b82ed",
   "metadata": {},
   "source": [
    "### Opslag\n",
    "\n",
    "We're going to use Redis as our database for both document contents and the vector embeddings. You will need the full Redis Stack to enable use of Redisearch, which is the module that allows semantic search - more detail is in the [docs for Redis Stack](https://redis.io/docs/stack/get-started/install/docker/).\n",
    "\n",
    "To set this up locally, you will need to install Docker and then run the following command: ```docker run -d --name redis-stack -p 6379:6379 -p 8001:8001 redis/redis-stack:latest```.\n",
    "\n",
    "The code used here draws heavily on [this repo](https://github.com/RedisAI/vecsim-demo).\n",
    "\n",
    "After setting up the Docker instance of Redis Stack, you can follow the below instructions to initiate a Redis connection and create a Hierarchical Navigable Small World (HNSW) index for semantic search."
   ]
  },
  {
   "cell_type": "code",
   "execution_count": 5,
   "id": "17d6b886",
   "metadata": {},
   "outputs": [],
   "source": [
    "# Setup Redis\n",
    "from redis import Redis\n",
    "from redis.commands.search.query import Query\n",
    "from redis.commands.search.field import (\n",
    "    TextField,\n",
    "    VectorField,\n",
    "    NumericField\n",
    ")\n",
    "from redis.commands.search.indexDefinition import (\n",
    "    IndexDefinition,\n",
    "    IndexType\n",
    ")\n",
    "\n",
    "redis_client = get_redis_connection()"
   ]
  },
  {
   "cell_type": "code",
   "execution_count": 6,
   "id": "4f3d3e6b",
   "metadata": {},
   "outputs": [],
   "source": [
    "# Constants\n",
    "VECTOR_DIM = 1536 #len(data['title_vector'][0]) # length of the vectors\n",
    "#VECTOR_NUMBER = len(data)                 # initial number of vectors\n",
    "PREFIX = \"sportsdoc\"                            # prefix for the document keys\n",
    "DISTANCE_METRIC = \"COSINE\"                # distance metric for the vectors (ex. COSINE, IP, L2)"
   ]
  },
  {
   "cell_type": "code",
   "execution_count": 7,
   "id": "d3c352ca",
   "metadata": {},
   "outputs": [],
   "source": [
    "# Create search index\n",
    "\n",
    "# Index\n",
    "INDEX_NAME = \"f1-index\"           # name of the search index\n",
    "VECTOR_FIELD_NAME = 'content_vector'\n",
    "\n",
    "# Define RediSearch fields for each of the columns in the dataset\n",
    "# This is where you should add any additional metadata you want to capture\n",
    "filename = TextField(\"filename\")\n",
    "text_chunk = TextField(\"text_chunk\")\n",
    "file_chunk_index = NumericField(\"file_chunk_index\")\n",
    "\n",
    "# define RediSearch vector fields to use HNSW index\n",
    "\n",
    "text_embedding = VectorField(VECTOR_FIELD_NAME,\n",
    "    \"HNSW\", {\n",
    "        \"TYPE\": \"FLOAT32\",\n",
    "        \"DIM\": VECTOR_DIM,\n",
    "        \"DISTANCE_METRIC\": DISTANCE_METRIC\n",
    "    }\n",
    ")\n",
    "# Add all our field objects to a list to be created as an index\n",
    "fields = [filename,text_chunk,file_chunk_index,text_embedding]"
   ]
  },
  {
   "cell_type": "code",
   "execution_count": 8,
   "id": "a6c78b7e",
   "metadata": {},
   "outputs": [
    {
     "data": {
      "text/plain": [
       "True"
      ]
     },
     "execution_count": 8,
     "metadata": {},
     "output_type": "execute_result"
    }
   ],
   "source": [
    "redis_client.ping()"
   ]
  },
  {
   "cell_type": "code",
   "execution_count": 9,
   "id": "cf3ad41f",
   "metadata": {},
   "outputs": [
    {
     "name": "stdout",
     "output_type": "stream",
     "text": [
      "Index already exists\n"
     ]
    }
   ],
   "source": [
    "# Optional step to drop the index if it already exists\n",
    "#redis_client.ft(INDEX_NAME).dropindex()\n",
    "\n",
    "# Check if index exists\n",
    "try:\n",
    "    redis_client.ft(INDEX_NAME).info()\n",
    "    print(\"Index already exists\")\n",
    "except Exception as e:\n",
    "    print(e)\n",
    "    # Create RediSearch Index\n",
    "    print('Not there yet. Creating')\n",
    "    redis_client.ft(INDEX_NAME).create_index(\n",
    "        fields = fields,\n",
    "        definition = IndexDefinition(prefix=[PREFIX], index_type=IndexType.HASH)\n",
    "    )"
   ]
  },
  {
   "cell_type": "markdown",
   "id": "f74ebeb5",
   "metadata": {},
   "source": [
    "### Laden van de data\n",
    "\n",
    "We'll load up our PDFs and do the following\n",
    "- Initiate our tokenizer\n",
    "- Run a processing pipeline to:\n",
    "    - Mine the text from each PDF\n",
    "    - Split them into chunks and embed them\n",
    "    - Store them in Redis"
   ]
  },
  {
   "cell_type": "code",
   "execution_count": 10,
   "id": "ed23bf9d",
   "metadata": {},
   "outputs": [],
   "source": [
    "# The transformers.py file contains all of the transforming functions, including ones to chunk, embed and load data\n",
    "# For more details the file and work through each function individually\n",
    "from transformers import handle_file_string"
   ]
  },
  {
   "cell_type": "code",
   "execution_count": 11,
   "id": "287b9fba-92b8-4e70-96f3-f0114df5a0df",
   "metadata": {
    "scrolled": true
   },
   "outputs": [
    {
     "name": "stdout",
     "output_type": "stream",
     "text": [
      "['230222 Verslag Stuurgroep Fieldlab TV.pdf', 'Audiobestand.pdf', 'Docentenhandleiding Burgerschap).pdf']\n",
      ".\\data\n",
      ".\\data\\230222 Verslag Stuurgroep Fieldlab TV.pdf\n",
      ".\\data\\Audiobestand.pdf\n",
      ".\\data\\Docentenhandleiding Burgerschap).pdf\n",
      "CPU times: total: 1.53 s\n",
      "Wall time: 7.01 s\n"
     ]
    }
   ],
   "source": [
    "%%time\n",
    "# Initialise tokenizer\n",
    "tokenizer = tiktoken.get_encoding(\"cl100k_base\")\n",
    "print(pdf_files)\n",
    "\n",
    "print(data_dir)\n",
    "# data_dir = \"data/\"\n",
    "\n",
    "for pdf_file in pdf_files:\n",
    "    pdf_path = os.path.join(data_dir,pdf_file)\n",
    "    print(pdf_path)\n",
    "    text = textract.process(pdf_path)\n",
    "    # Extract the raw text from each PDF using textract\n",
    "    # text = textract.process(pdf_path, method='pdfminer')\n",
    "    handle_file_string((pdf_file,text.decode(\"utf-8\")),tokenizer,redis_client,VECTOR_FIELD_NAME,INDEX_NAME)\n",
    "    \n",
    "    \n",
    "    "
   ]
  },
  {
   "cell_type": "code",
   "execution_count": null,
   "id": "31f299f6",
   "metadata": {
    "scrolled": true
   },
   "outputs": [],
   "source": [
    "%%time\n",
    "# This step takes about 5 minutes\n",
    "\n",
    "# Initialise tokenizer\n",
    "tokenizer = tiktoken.get_encoding(\"cl100k_base\")\n",
    "print(pdf_files)\n",
    "\n",
    "# data_dir = \"data/\"\n",
    "\n",
    "# Process each PDF file and prepare for embedding\n",
    "for pdf_file in pdf_files:\n",
    "    \n",
    "    pdf_path = os.path.join(data_dir,pdf_file)\n",
    "    print(pdf_path)\n",
    "    \n",
    "    # Extract the raw text from each PDF using textract\n",
    "    text = textract.process(pdf_path) #, method='pdfminer'\n",
    "    # print(text)\n",
    "    \n",
    "    # Chunk each document, embed the contents and load to Redis\n",
    "    handle_file_string((pdf_file,text.decode(\"utf-8\")),tokenizer,redis_client,VECTOR_FIELD_NAME,INDEX_NAME)"
   ]
  },
  {
   "cell_type": "code",
   "execution_count": 12,
   "id": "22aff597",
   "metadata": {},
   "outputs": [
    {
     "data": {
      "text/plain": [
       "'745'"
      ]
     },
     "execution_count": 12,
     "metadata": {},
     "output_type": "execute_result"
    }
   ],
   "source": [
    "# Check that our docs have been inserted\n",
    "redis_client.ft(INDEX_NAME).info()['num_docs']"
   ]
  },
  {
   "cell_type": "markdown",
   "id": "6b12cb6e",
   "metadata": {},
   "source": [
    "## Make it a product\n",
    "\n",
    "Now we can test that our search works as intended by:\n",
    "- Querying our data in Redis using semantic search and verifying results\n",
    "- Adding a step to pass the results to GPT-3 for summarisation"
   ]
  },
  {
   "cell_type": "code",
   "execution_count": 13,
   "id": "e921ac96",
   "metadata": {},
   "outputs": [],
   "source": [
    "from database import get_redis_results"
   ]
  },
  {
   "cell_type": "code",
   "execution_count": 14,
   "id": "cb9dfacf",
   "metadata": {},
   "outputs": [
    {
     "name": "stdout",
     "output_type": "stream",
     "text": [
      "CPU times: total: 31.2 ms\n",
      "Wall time: 284 ms\n"
     ]
    },
    {
     "data": {
      "text/html": [
       "<div>\n",
       "<style scoped>\n",
       "    .dataframe tbody tr th:only-of-type {\n",
       "        vertical-align: middle;\n",
       "    }\n",
       "\n",
       "    .dataframe tbody tr th {\n",
       "        vertical-align: top;\n",
       "    }\n",
       "\n",
       "    .dataframe thead th {\n",
       "        text-align: right;\n",
       "    }\n",
       "</style>\n",
       "<table border=\"1\" class=\"dataframe\">\n",
       "  <thead>\n",
       "    <tr style=\"text-align: right;\">\n",
       "      <th></th>\n",
       "      <th>id</th>\n",
       "      <th>result</th>\n",
       "      <th>certainty</th>\n",
       "    </tr>\n",
       "  </thead>\n",
       "  <tbody>\n",
       "    <tr>\n",
       "      <th>0</th>\n",
       "      <td>0</td>\n",
       "      <td>Filename is: Docentenhandleiding Burgerschap).pdf;</td>\n",
       "      <td>0.140407323837</td>\n",
       "    </tr>\n",
       "    <tr>\n",
       "      <th>1</th>\n",
       "      <td>1</td>\n",
       "      <td>De docent uren volgt de student vanuit.\\r  Spreker 10\\r  Studenten zeker, ja?\\r  Spreker 13\\r  Je keuze, dat maakt het student daar ingaan. Heb je ook helemaal terug?\\r  Spreker 7\\r  Klopt, ja klopt.\\r  Spreker 11\\r  We hebben met.\\r  \\r  \f",
       "Spreker 9\\r  Marcel van de week over gesproken over.\\r  Spreker 5\\r  Mochten de toe.\\r  Spreker 9\\r  Nou het kiezen van een aantal focuspunten, bijvoorbeeld dat we daarin kunnen meelopen met de werkgroepen. Dat zou bijvoorbeeld ook wel heel mooi zijn, h�? Vind je dat het onderwijs en de werkgroepen een beetje gelijk op laat gaan en dan op gegeven moment die kruisbestuiving dan ook krijgt, want dan zit je inhoudelijk in ieder geval goed, want soms moet je het bedrijf ook gewoon een. Beetje opleiden op wat? Wat �berhaupt is er allemaal op dit moment aan kennis aanwezig en hoe kunnen we daar graag van?\\r  Spreker 2\\r  Vragen over dit punt. Ook gezicht inhoudelijk. Maakt het bedrijf kant. Dank u zust�ndig voor deze update. Dan gaan we door naar grego denk ik h�, voor de financi�le voortgang.\\r  Spreker 1\\r  Ja nee. Ja, dat klopt. Ja met name dit. Even kijken waar ik tot en met eergisteren gisteren. Nou.\\r  Spreker 7\\r  Dus dat patch 3 zit erin?\\r  Spreker 4\\r  Ja ja.\\r  Spreker 1\\r  En daar nou ja, zoals ik al In het begin met met.</td>\n",
       "      <td>0.182792901993</td>\n",
       "    </tr>\n",
       "  </tbody>\n",
       "</table>\n",
       "</div>"
      ],
      "text/plain": [
       "   id  \\\n",
       "0  0    \n",
       "1  1    \n",
       "\n",
       "                                                                                                                                                                                                                                                                                                                                                                                                                                                                                                                                                                                                                                                                                                                                                                                                                                                                                                                                                                                                                                                                                                                                                                                                                                                                                                                                 result  \\\n",
       "0  Filename is: Docentenhandleiding Burgerschap).pdf; \n",
       "\n",
       "\n",
       "\n",
       "\n",
       "\n",
       "\n",
       "\n",
       "\n",
       "\n",
       "\n",
       "\n",
       "\n",
       "\n",
       "\n",
       "\n",
       "\n",
       "\n",
       "\n",
       "\n",
       "\n",
       "\n",
       "\n",
       "\n",
       "\n",
       "\n",
       "\n",
       "\n",
       "\n",
       "\n",
       "\n",
       "\n",
       "\n",
       "\n",
       "\n",
       "\n",
       "\n",
       "\n",
       "\n",
       "\n",
       "\n",
       "\n",
       "\n",
       "\n",
       "\n",
       "\n",
       "\n",
       "\n",
       "\n",
       "\n",
       "\n",
       "\n",
       "\n",
       "\n",
       "\n",
       "\n",
       "\n",
       "\n",
       "                                                                                                                                                                                                                                                                                                                                                                                                                                                                                                                                                                                                                                                                                                                                                                                                                                                                                                                                                                                                                                                                                                                                                                                                                          \n",
       "1   De docent uren volgt de student vanuit.\\r  Spreker 10\\r  Studenten zeker, ja?\\r  Spreker 13\\r  Je keuze, dat maakt het student daar ingaan. Heb je ook helemaal terug?\\r  Spreker 7\\r  Klopt, ja klopt.\\r  Spreker 11\\r  We hebben met.\\r  \\r  \n",
       "Spreker 9\\r  Marcel van de week over gesproken over.\\r  Spreker 5\\r  Mochten de toe.\\r  Spreker 9\\r  Nou het kiezen van een aantal focuspunten, bijvoorbeeld dat we daarin kunnen meelopen met de werkgroepen. Dat zou bijvoorbeeld ook wel heel mooi zijn, h�? Vind je dat het onderwijs en de werkgroepen een beetje gelijk op laat gaan en dan op gegeven moment die kruisbestuiving dan ook krijgt, want dan zit je inhoudelijk in ieder geval goed, want soms moet je het bedrijf ook gewoon een. Beetje opleiden op wat? Wat �berhaupt is er allemaal op dit moment aan kennis aanwezig en hoe kunnen we daar graag van?\\r  Spreker 2\\r  Vragen over dit punt. Ook gezicht inhoudelijk. Maakt het bedrijf kant. Dank u zust�ndig voor deze update. Dan gaan we door naar grego denk ik h�, voor de financi�le voortgang.\\r  Spreker 1\\r  Ja nee. Ja, dat klopt. Ja met name dit. Even kijken waar ik tot en met eergisteren gisteren. Nou.\\r  Spreker 7\\r  Dus dat patch 3 zit erin?\\r  Spreker 4\\r  Ja ja.\\r  Spreker 1\\r  En daar nou ja, zoals ik al In het begin met met.   \n",
       "\n",
       "        certainty  \n",
       "0  0.140407323837  \n",
       "1  0.182792901993  "
      ]
     },
     "execution_count": 14,
     "metadata": {},
     "output_type": "execute_result"
    }
   ],
   "source": [
    "%%time\n",
    "\n",
    "f1_query=\"Welke Thema's zijn er te vinden in de docentenhandleiding Burgerschap? Geef met bullits de titels van deze Thema's\"\n",
    "\n",
    "result_df = get_redis_results(redis_client,f1_query,index_name=INDEX_NAME)\n",
    "result_df.head(2)"
   ]
  },
  {
   "cell_type": "code",
   "execution_count": 15,
   "id": "51340903",
   "metadata": {},
   "outputs": [
    {
     "name": "stdout",
     "output_type": "stream",
     "text": [
      "\n",
      "• Thema 1: Wat is burgerschap?\n",
      "• Thema 2: Essentiële basisvaardigheden leren\n",
      "• Thema 3: Hoe burgerschap een invloed heeft op het dagelijks leven\n",
      "• Thema 4: De rol van burgerschap in onderwijs\n",
      "• Thema 5: Maatschappelijke inclusie en diversiteit\n",
      "• Thema 6: Ethische en sociale verantwoordelijkheden\n",
      "• Thema 7: Confronteren van stereotypen\n"
     ]
    }
   ],
   "source": [
    "# Build a prompt to provide the original query, the result and ask to summarise for the user\n",
    "summary_prompt = '''Maak een samenvatting die een bullitlijst als antwoord levert op de zoekvraag die de gebruiker heeft gestuurd.\n",
    "Search query: SEARCH_QUERY_HERE\n",
    "Search result: SEARCH_RESULT_HERE\n",
    "Samenvatting:\n",
    "'''\n",
    "summary_prepped = summary_prompt.replace('SEARCH_QUERY_HERE',f1_query).replace('SEARCH_RESULT_HERE',result_df['result'][0])\n",
    "summary = openai.Completion.create(engine=COMPLETIONS_MODEL,prompt=summary_prepped,max_tokens=500)\n",
    "# Response provided by GPT-3\n",
    "print(summary['choices'][0]['text'])"
   ]
  },
  {
   "cell_type": "markdown",
   "id": "d008ff23",
   "metadata": {},
   "source": [
    "### Search\n",
    "\n",
    "Now that we've got our knowledge embedded and stored in Redis, we can now create an internal search application. Its not sophisticated but it'll get the job done for us.\n",
    "\n",
    "In the directory containing this app, execute ```streamlit run search.py```. This will open up a Streamlit app in your browser where you can ask questions of your embedded data.\n",
    "\n",
    "__Example Questions__:\n",
    "- what is the cost cap for a power unit in 2023\n",
    "- what should competitors include on their application form"
   ]
  },
  {
   "cell_type": "markdown",
   "id": "dd12b31e",
   "metadata": {},
   "source": [
    "## Build your moat\n",
    "\n",
    "The Q&A was useful, but fairly limited in the complexity of interaction we can have - if the user asks a sub-optimal question, there is no assistance from the system to prompt them for more info or conversation to lead them down the right path.\n",
    "\n",
    "For the next step we'll make a Chatbot using the Chat Completions endpoint, which will:\n",
    "- Be given instructions on how it should act and what the goals of its users are\n",
    "- Be supplied some required information that it needs to collect\n",
    "- Go back and forth with the customer until it has populated that information\n",
    "- Say a trigger word that will kick off semantic search and summarisation of the response\n",
    "\n",
    "For more details on our Chat Completions endpoint and how to interact with it, please check out the docs [here](https://platform.openai.com/docs/guides/chat)."
   ]
  },
  {
   "cell_type": "markdown",
   "id": "34135886",
   "metadata": {},
   "source": [
    "### Framework\n",
    "\n",
    "This section outlines a basic framework for working with the API and storing context of previous conversation \"turns\". Once this is established, we'll extend it to use our retrieval endpoint."
   ]
  },
  {
   "cell_type": "code",
   "execution_count": 17,
   "id": "45c0acc8",
   "metadata": {},
   "outputs": [
    {
     "name": "stdout",
     "output_type": "stream",
     "text": [
      "assistant: Als een kunstmatige intelligentie van OpenAI kan ik u ondersteunen door informatie te verstrekken, vragen te beantwoorden, u te helpen bij het organiseren van taken, advies te geven over verschillende onderwerpen en nog veel meer. I kan u helpen met zaken zoals tijdbeheer, productiviteit, algemene kennisvragen en nog veel meer. Let op: hoewel ik probeer zo correct en behulpzaam mogelijk te zijn, ben ik nog steeds een AI en kan ik menselijke fouten niet volledig uitsluiten.\n"
     ]
    }
   ],
   "source": [
    "# A basic example of how to interact with our ChatCompletion endpoint\n",
    "# It requires a list of \"messages\", consisting of a \"role\" (one of system, user or assistant) and \"content\"\n",
    "question = 'Hoe kun je mij helpen?'\n",
    "\n",
    "\n",
    "completion = openai.ChatCompletion.create(\n",
    "  model=\"gpt-4\",\n",
    "  messages=[\n",
    "    {\"role\": \"user\", \"content\": question}\n",
    "  ]\n",
    ")\n",
    "print(f\"{completion['choices'][0]['message']['role']}: {completion['choices'][0]['message']['content']}\")"
   ]
  },
  {
   "cell_type": "code",
   "execution_count": 18,
   "id": "23e4fc55",
   "metadata": {},
   "outputs": [],
   "source": [
    "from termcolor import colored\n",
    "\n",
    "# A basic class to create a message as a dict for chat\n",
    "class Message:\n",
    "    \n",
    "    \n",
    "    def __init__(self,role,content):\n",
    "        \n",
    "        self.role = role\n",
    "        self.content = content\n",
    "        \n",
    "    def message(self):\n",
    "        \n",
    "        return {\"role\": self.role,\"content\": self.content}\n",
    "        \n",
    "# Our assistant class we'll use to converse with the bot\n",
    "class Assistant:\n",
    "    \n",
    "    def __init__(self):\n",
    "        self.conversation_history = []\n",
    "\n",
    "    def _get_assistant_response(self, prompt):\n",
    "        \n",
    "        try:\n",
    "            completion = openai.ChatCompletion.create(\n",
    "              model=\"gpt-4\",  # gpt-3.5-turbo\n",
    "              messages=prompt\n",
    "            )\n",
    "            \n",
    "            response_message = Message(completion['choices'][0]['message']['role'],completion['choices'][0]['message']['content'])\n",
    "            return response_message.message()\n",
    "            \n",
    "        except Exception as e:\n",
    "            \n",
    "            return f'Request failed with exception {e}'\n",
    "\n",
    "    def ask_assistant(self, next_user_prompt, colorize_assistant_replies=True):\n",
    "        [self.conversation_history.append(x) for x in next_user_prompt]\n",
    "        assistant_response = self._get_assistant_response(self.conversation_history)\n",
    "        self.conversation_history.append(assistant_response)\n",
    "        return assistant_response\n",
    "            \n",
    "        \n",
    "    def pretty_print_conversation_history(self, colorize_assistant_replies=True):\n",
    "        for entry in self.conversation_history:\n",
    "            if entry['role'] == 'system':\n",
    "                pass\n",
    "            else:\n",
    "                prefix = entry['role']\n",
    "                content = entry['content']\n",
    "                output = colored(prefix +':\\n' + content, 'green') if colorize_assistant_replies and entry['role'] == 'assistant' else prefix +':\\n' + content\n",
    "                print(output)"
   ]
  },
  {
   "cell_type": "code",
   "execution_count": 19,
   "id": "e18c88b4",
   "metadata": {},
   "outputs": [
    {
     "data": {
      "text/plain": [
       "[{'role': 'system',\n",
       "  'content': 'Jij bent een behulpzame assistent die kan assisteren bij het maken van een lesplan, en bij het notuleren.'},\n",
       " {'role': 'user', 'content': 'Wat kun je voor mij doen?'}]"
      ]
     },
     "execution_count": 19,
     "metadata": {},
     "output_type": "execute_result"
    }
   ],
   "source": [
    "# Initiate our Assistant class\n",
    "conversation = Assistant()\n",
    "\n",
    "# Create a list to hold our messages and insert both a system message to guide behaviour and our first user question\n",
    "messages = []\n",
    "system_message = Message('system','Jij bent een behulpzame assistent die kan assisteren bij het maken van een lesplan, en bij het notuleren.')\n",
    "user_message = Message('user','Wat kun je voor mij doen?')\n",
    "messages.append(system_message.message())\n",
    "messages.append(user_message.message())\n",
    "messages"
   ]
  },
  {
   "cell_type": "code",
   "execution_count": 20,
   "id": "377243c9",
   "metadata": {},
   "outputs": [
    {
     "name": "stdout",
     "output_type": "stream",
     "text": [
      "Als assistent kan ik je op verschillende manieren helpen:\n",
      "\n",
      "1. Lesplan Maken: Ik kan je helpen bij het organiseren en maken van een gedetailleerd lesplan. Dit kan variëren van het plannen van een enkele les tot het ontwerpen van een volledig curriculum, inclusief het indelen van activiteiten, het vaststellen van leerdoelen en het aangeven van eventuele benodigde materialen.\n",
      "\n",
      "2. Notuleren: Ik kan je helpen bij het bijhouden van vergaderingen of klassendiscussies. Dit kan inhouden dat ik belangrijke punten, genomen beslissingen en toegewezen taken noteer, of samenvattingen maak na afloop.\n",
      "\n",
      "3. Beheren van agenda's: Ik kan helpen bij het plannen en bijhouden van afspraken, belangrijke data en deadlines, ervoor zorgen dat je georganiseerd blijft.\n",
      "\n",
      "4. Onlinediensten: Ik kan je helpen bij het navigeren door het digitale landschap, zoals het zoeken naar bronnen voor lesmateriaal, het gebruik van educatieve apps en tools, en het begrijpen van het gebruik van online platforms voor leren en onderwijs.\n",
      "\n",
      "Laat het me weten waar je hulp bij nodig hebt en ik zal mijn best doen om je bij te staan!\n"
     ]
    }
   ],
   "source": [
    "# Get back a response from the Chatbot to our question\n",
    "response_message = conversation.ask_assistant(messages)\n",
    "print(response_message['content'])"
   ]
  },
  {
   "cell_type": "code",
   "execution_count": 21,
   "id": "f364c3b5",
   "metadata": {},
   "outputs": [
    {
     "name": "stdout",
     "output_type": "stream",
     "text": [
      "Natuurlijk, ik ben blij dat ik kan helpen bij het maken van je lesplan. Omdat ik een AI assistent ben, kan ik geen fysieke documenten of bestanden openen, maar ik kan je zeker helpen bij het opzetten van een algemeen format voor je lesplan. \n",
      "\n",
      "Hierbij kan je een idee krijgen van hoe het kan worden gestructureerd:\n",
      "\n",
      "-----\n",
      "**Lesplan Burgerschap**\n",
      "\n",
      "**Thema 1, Les 1**\n",
      "\n",
      "**Leerdoelen:**\n",
      "- Pain punt 1 (afgeleid van de docentenhandleiding)\n",
      "- Punt 2 ....\n",
      "- Punt 3 ....\n",
      "\n",
      "**Inleiding activiteit:** (5-10 min)\n",
      "Een korte activiteit of dialoog om het onderwerp van de les in te leiden.\n",
      "\n",
      "**Hoofdactiviteit:** (30-40 minuten)\n",
      "- Instructie: Uitleg van het belangrijkste concept of vaardigheid voor deze les.\n",
      "- Oefening: Praktische activiteit voor leerlingen om het concept of de vaardigheid dat is uitgelegd in de instructie te oefenen.\n",
      "\n",
      "**Afsluitende activiteit:** (10-15 min)\n",
      "Een activiteit of discussie om de behandelde onderwerpen te herhalen en te consolideren.\n",
      "\n",
      "**Extra Recources/Materiaal:**\n",
      "- Document 1\n",
      "- Video 1\n",
      "- Activiteit 1\n",
      "\n",
      "**Huiswerk/Toetsvoorbereiding:**\n",
      "Specifieke toewijzing aan studenten om thuis te voltooien, om het thema van de les te herzien of uit te breiden.\n",
      "\n",
      "Linux: Deze lesplan sjabloon is gebaseerd op de veronderstelling dat je een tijdsbestek van een uur hebt. Als je meer of minder tijd hebt, pas dan de tijdsverdeling voor elke activiteit dienovereenkomstig aan.\n",
      "\n",
      "Je kan dit als startpunt gebruiken en aanvullen met meer gedetailleerde informatie gebaseerd op de docentenhandleiding Burgerschap's instructies voor Thema 1, Les 1.\n",
      "\n"
     ]
    }
   ],
   "source": [
    "next_question = 'Kun je voor mij op basis van de docentenhandleiding Burgerschap een lesplan samenstellen over Thema 1, les 1?'\n",
    "\n",
    "# Initiate a fresh messages list and insert our next question\n",
    "messages = []\n",
    "user_message = Message('user',next_question)\n",
    "messages.append(user_message.message())\n",
    "response_message = conversation.ask_assistant(messages)\n",
    "print(response_message['content'])"
   ]
  },
  {
   "cell_type": "code",
   "execution_count": 22,
   "id": "f62842a1",
   "metadata": {},
   "outputs": [
    {
     "name": "stdout",
     "output_type": "stream",
     "text": [
      "user:\n",
      "Wat kun je voor mij doen?\n",
      "\u001b[32massistant:\n",
      "Als assistent kan ik je op verschillende manieren helpen:\n",
      "\n",
      "1. Lesplan Maken: Ik kan je helpen bij het organiseren en maken van een gedetailleerd lesplan. Dit kan variëren van het plannen van een enkele les tot het ontwerpen van een volledig curriculum, inclusief het indelen van activiteiten, het vaststellen van leerdoelen en het aangeven van eventuele benodigde materialen.\n",
      "\n",
      "2. Notuleren: Ik kan je helpen bij het bijhouden van vergaderingen of klassendiscussies. Dit kan inhouden dat ik belangrijke punten, genomen beslissingen en toegewezen taken noteer, of samenvattingen maak na afloop.\n",
      "\n",
      "3. Beheren van agenda's: Ik kan helpen bij het plannen en bijhouden van afspraken, belangrijke data en deadlines, ervoor zorgen dat je georganiseerd blijft.\n",
      "\n",
      "4. Onlinediensten: Ik kan je helpen bij het navigeren door het digitale landschap, zoals het zoeken naar bronnen voor lesmateriaal, het gebruik van educatieve apps en tools, en het begrijpen van het gebruik van online platforms voor leren en onderwijs.\n",
      "\n",
      "Laat het me weten waar je hulp bij nodig hebt en ik zal mijn best doen om je bij te staan!\u001b[0m\n",
      "user:\n",
      "Kun je voor mij op basis van de docentenhandleiding Burgerschap een lesplan samenstellen over Thema 1, les 1?\n",
      "\u001b[32massistant:\n",
      "Natuurlijk, ik ben blij dat ik kan helpen bij het maken van je lesplan. Omdat ik een AI assistent ben, kan ik geen fysieke documenten of bestanden openen, maar ik kan je zeker helpen bij het opzetten van een algemeen format voor je lesplan. \n",
      "\n",
      "Hierbij kan je een idee krijgen van hoe het kan worden gestructureerd:\n",
      "\n",
      "-----\n",
      "**Lesplan Burgerschap**\n",
      "\n",
      "**Thema 1, Les 1**\n",
      "\n",
      "**Leerdoelen:**\n",
      "- Pain punt 1 (afgeleid van de docentenhandleiding)\n",
      "- Punt 2 ....\n",
      "- Punt 3 ....\n",
      "\n",
      "**Inleiding activiteit:** (5-10 min)\n",
      "Een korte activiteit of dialoog om het onderwerp van de les in te leiden.\n",
      "\n",
      "**Hoofdactiviteit:** (30-40 minuten)\n",
      "- Instructie: Uitleg van het belangrijkste concept of vaardigheid voor deze les.\n",
      "- Oefening: Praktische activiteit voor leerlingen om het concept of de vaardigheid dat is uitgelegd in de instructie te oefenen.\n",
      "\n",
      "**Afsluitende activiteit:** (10-15 min)\n",
      "Een activiteit of discussie om de behandelde onderwerpen te herhalen en te consolideren.\n",
      "\n",
      "**Extra Recources/Materiaal:**\n",
      "- Document 1\n",
      "- Video 1\n",
      "- Activiteit 1\n",
      "\n",
      "**Huiswerk/Toetsvoorbereiding:**\n",
      "Specifieke toewijzing aan studenten om thuis te voltooien, om het thema van de les te herzien of uit te breiden.\n",
      "\n",
      "Linux: Deze lesplan sjabloon is gebaseerd op de veronderstelling dat je een tijdsbestek van een uur hebt. Als je meer of minder tijd hebt, pas dan de tijdsverdeling voor elke activiteit dienovereenkomstig aan.\n",
      "\n",
      "Je kan dit als startpunt gebruiken en aanvullen met meer gedetailleerde informatie gebaseerd op de docentenhandleiding Burgerschap's instructies voor Thema 1, Les 1.\n",
      "\u001b[0m\n"
     ]
    }
   ],
   "source": [
    "# Print out a log of our conversation so far\n",
    "\n",
    "conversation.pretty_print_conversation_history()"
   ]
  },
  {
   "cell_type": "markdown",
   "id": "f18d5b54",
   "metadata": {},
   "source": [
    "### Knowledge retrieval\n",
    "\n",
    "Now we'll extend the class to call a downstream service when a stop sequence is spoken by the Chatbot.\n",
    "\n",
    "The main changes are:\n",
    "- The system message is more comprehensive, giving criteria for the Chatbot to advance the conversation\n",
    "- Adding an explicit stop sequence for it to use when it has the info it needs\n",
    "- Extending the class with a function ```_get_search_results``` which sources Redis results"
   ]
  },
  {
   "cell_type": "code",
   "execution_count": 23,
   "id": "8a0cef87",
   "metadata": {},
   "outputs": [],
   "source": [
    "# Updated system prompt requiring Question and Year to be extracted from the user\n",
    "system_prompt = '''\n",
    "Je bent een vriendelijke en behulpzame instructiecoach die docenten helpt bij het plannen van een les.  Je hebt een boek tot je beschikking: 'Docentenhandleiding Burgerschap'. Je maakt een lesplan over een Thema, en in het bijzonder een lesplan behorend tot 1 van de 5 lessen die over een thema gaat. De doelgroep bestaat uit niveau 1 MBO studenten.  Ze hebben geen voorkennis van het onderwerp. Gebruik een helder leerdoel want dat is wat de studenten begrijpen of kunnen doen na de les. Maak nu met deze informatie en met de kennis uit de inhoud een aangepast lesplan in markdown formaat met een verscheidenheid aan lestechnieken en -modaliteiten, waaronder directe instructie, controleren op begrip (inclusief het verzamelen van bewijs van begrip van een brede steekproef van studenten), discussie, een boeiende activiteit in de klas en een opdracht.  Leg uit waarom je specifiek voor elk kiest.   Probeer het niet groter te maken dan 2  A4-tjes \n",
    "\n",
    "'''\n",
    "\n",
    "# New Assistant class to add a vector database call to its responses\n",
    "class RetrievalAssistant:\n",
    "    \n",
    "    def __init__(self):\n",
    "        self.conversation_history = []  \n",
    "\n",
    "    def _get_assistant_response(self, prompt):\n",
    "        \n",
    "        try:\n",
    "            completion = openai.ChatCompletion.create(\n",
    "              model=CHAT_MODEL,\n",
    "              messages=prompt,\n",
    "              temperature=0.1\n",
    "            )\n",
    "            \n",
    "            response_message = Message(completion['choices'][0]['message']['role'],completion['choices'][0]['message']['content'])\n",
    "            return response_message.message()\n",
    "            \n",
    "        except Exception as e:\n",
    "            \n",
    "            return f'Request failed with exception {e}'\n",
    "    \n",
    "    # The function to retrieve Redis search results\n",
    "    def _get_search_results(self,prompt):\n",
    "        latest_question = prompt\n",
    "        search_content = get_redis_results(redis_client,latest_question,INDEX_NAME)['result'][0]\n",
    "        return search_content\n",
    "        \n",
    "\n",
    "    def ask_assistant(self, next_user_prompt):\n",
    "        [self.conversation_history.append(x) for x in next_user_prompt]\n",
    "        assistant_response = self._get_assistant_response(self.conversation_history)\n",
    "        \n",
    "        # Answer normally unless the trigger sequence is used \"searching_for_answers\"\n",
    "        if 'searching for answers' in assistant_response['content'].lower():\n",
    "            question_extract = openai.Completion.create(model=COMPLETIONS_MODEL,prompt=f\"Extraheer de laatste vraag van de user om een lesplan te maken, en gebruik dan deze conversation: {self.conversation_history}.\")\n",
    "            search_result = self._get_search_results(question_extract['choices'][0]['text'])\n",
    "            \n",
    "            # We insert an extra system prompt here to give fresh context to the Chatbot on how to use the Redis results\n",
    "            # In this instance we add it to the conversation history, but in production it may be better to hide\n",
    "            self.conversation_history.insert(-1,{\"role\": 'system',\"content\": f\"Beantwoord de vraag door deze context te gebruiken: {search_result}. Als je het antwoord niet weet, zeg dan 'Sorry, Ik weet hierop niet het antwoord'\"})\n",
    "            #[self.conversation_history.append(x) for x in next_user_prompt]\n",
    "            \n",
    "            assistant_response = self._get_assistant_response(self.conversation_history)\n",
    "            print(next_user_prompt)\n",
    "            print(assistant_response)\n",
    "            self.conversation_history.append(assistant_response)\n",
    "            return assistant_response\n",
    "        else:\n",
    "            self.conversation_history.append(assistant_response)\n",
    "            return assistant_response\n",
    "            \n",
    "        \n",
    "    def pretty_print_conversation_history(self, colorize_assistant_replies=True):\n",
    "        for entry in self.conversation_history:\n",
    "            if entry['role'] == 'system':\n",
    "                pass\n",
    "            else:\n",
    "                prefix = entry['role']\n",
    "                content = entry['content']\n",
    "                output = colored(prefix +':\\n' + content, 'green') if colorize_assistant_replies and entry['role'] == 'assistant' else prefix +':\\n' + content\n",
    "                #prefix = entry['role']\n",
    "                print(output)"
   ]
  },
  {
   "cell_type": "code",
   "execution_count": 24,
   "id": "101d502c",
   "metadata": {},
   "outputs": [
    {
     "data": {
      "text/plain": [
       "{'role': 'assistant',\n",
       " 'content': \"In de handleiding 'Docentenhandleiding Burgerschap' worden vijf thema's behandeld.\"}"
      ]
     },
     "execution_count": 24,
     "metadata": {},
     "output_type": "execute_result"
    }
   ],
   "source": [
    "conversation = RetrievalAssistant()\n",
    "messages = []\n",
    "system_message = Message('system',system_prompt)\n",
    "user_message = Message('user',\"Hoeveel thema's worden in Burgerschap behandeld? \")\n",
    "messages.append(system_message.message())\n",
    "messages.append(user_message.message())\n",
    "response_message = conversation.ask_assistant(messages)\n",
    "response_message"
   ]
  },
  {
   "cell_type": "code",
   "execution_count": 27,
   "id": "702eb4fc",
   "metadata": {},
   "outputs": [
    {
     "data": {
      "text/plain": [
       "{'role': 'assistant',\n",
       " 'content': \"Natuurlijk! Hier zijn de vijf thema's uit de 'Docentenhandleiding Burgerschap':\\n\\n1. Identiteit en diversiteit\\n2. Democratie en rechtsstaat\\n3. Duurzaamheid en leefomgeving\\n4. Gezondheid en welzijn\\n5. Politiek en beleid\"}"
      ]
     },
     "execution_count": 27,
     "metadata": {},
     "output_type": "execute_result"
    }
   ],
   "source": [
    "messages = []\n",
    "user_message = Message('user',\"Kun je de vijf thema's puntsgewijs noemen?.\")\n",
    "messages.append(user_message.message())\n",
    "response_message = conversation.ask_assistant(messages)\n",
    "response_message"
   ]
  },
  {
   "cell_type": "code",
   "execution_count": 28,
   "id": "e2f2c812",
   "metadata": {},
   "outputs": [
    {
     "name": "stdout",
     "output_type": "stream",
     "text": [
      "user:\n",
      "Hoeveel thema's worden in Burgerschap behandeld? \n",
      "\u001b[32massistant:\n",
      "In de handleiding 'Docentenhandleiding Burgerschap' worden vijf thema's behandeld.\u001b[0m\n",
      "user:\n",
      "Kun je de vijf thema's puntsgewijs noemen?.\n",
      "\u001b[32massistant:\n",
      "Natuurlijk! Hier zijn de vijf thema's uit de 'Docentenhandleiding Burgerschap':\n",
      "\n",
      "1. Identiteit en diversiteit\n",
      "2. Democratie en rechtsstaat\n",
      "3. Duurzaamheid en leefomgeving\n",
      "4. Gezondheid en welzijn\n",
      "5. Politiek en beleid\u001b[0m\n",
      "user:\n",
      "Kun je de vijf thema's puntsgewijs noemen?.\n",
      "\u001b[32massistant:\n",
      "Natuurlijk! Hier zijn de vijf thema's uit de 'Docentenhandleiding Burgerschap':\n",
      "\n",
      "1. Identiteit en diversiteit\n",
      "2. Democratie en rechtsstaat\n",
      "3. Duurzaamheid en leefomgeving\n",
      "4. Gezondheid en welzijn\n",
      "5. Politiek en beleid\u001b[0m\n"
     ]
    }
   ],
   "source": [
    "conversation.pretty_print_conversation_history()"
   ]
  },
  {
   "cell_type": "markdown",
   "id": "a9f9ef37",
   "metadata": {},
   "source": [
    "### Chatbot\n",
    "\n",
    "Now we'll put all this into action with a real (basic) Chatbot.\n",
    "\n",
    "In the directory containing this app, execute ```streamlit run chat.py```. This will open up a Streamlit app in your browser where you can ask questions of your embedded data. \n",
    "\n",
    "__Example Questions__:\n",
    "- what is the cost cap for a power unit in 2023\n",
    "- what should competitors include on their application form\n",
    "- how can a competitor be disqualified"
   ]
  },
  {
   "cell_type": "markdown",
   "id": "b8e6c4ca",
   "metadata": {},
   "source": [
    "### Consolidation\n",
    "\n",
    "Over the course of this notebook you have:\n",
    "- Laid the foundations of your product by embedding our knowledge base\n",
    "- Created a Q&A application to serve basic use cases\n",
    "- Extended this to be an interactive Chatbot\n",
    "\n",
    "These are the foundational building blocks of any Q&A or Chat application using our APIs - these are your starting point, and we look forward to seeing what you build with them!"
   ]
  },
  {
   "cell_type": "code",
   "execution_count": null,
   "id": "5bb8a437-4a00-49e3-822b-b9df22ad235c",
   "metadata": {},
   "outputs": [],
   "source": []
  },
  {
   "cell_type": "code",
   "execution_count": null,
   "id": "feef4e98-41de-4daf-99dd-ee2893998409",
   "metadata": {},
   "outputs": [],
   "source": []
  }
 ],
 "metadata": {
  "kernelspec": {
   "display_name": "Python 3 (ipykernel)",
   "language": "python",
   "name": "python3"
  },
  "language_info": {
   "codemirror_mode": {
    "name": "ipython",
    "version": 3
   },
   "file_extension": ".py",
   "mimetype": "text/x-python",
   "name": "python",
   "nbconvert_exporter": "python",
   "pygments_lexer": "ipython3",
   "version": "3.11.5"
  }
 },
 "nbformat": 4,
 "nbformat_minor": 5
}
